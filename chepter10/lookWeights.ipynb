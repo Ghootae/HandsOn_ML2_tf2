{
 "cells": [
  {
   "cell_type": "code",
   "execution_count": 1,
   "metadata": {},
   "outputs": [],
   "source": [
    "import tensorflow as tf\n",
    "import matplotlib.pyplot as plt\n",
    "import numpy as np"
   ]
  },
  {
   "cell_type": "code",
   "execution_count": 70,
   "metadata": {},
   "outputs": [],
   "source": [
    "noise = tf.random.normal([1, 5, 5])\n",
    "plt.imshow(noise[0])"
   ]
  },
  {
   "cell_type": "code",
   "execution_count": 92,
   "metadata": {},
   "outputs": [
    {
     "name": "stdout",
     "output_type": "stream",
     "text": [
      "Model: \"model_11\"\n",
      "_________________________________________________________________\n",
      "Layer (type)                 Output Shape              Param #   \n",
      "=================================================================\n",
      "input_18 (InputLayer)        [(None, 5, 5, 1)]         0         \n",
      "_________________________________________________________________\n",
      "conv2d_14 (Conv2D)           (None, 3, 3, 5)           50        \n",
      "=================================================================\n",
      "Total params: 50\n",
      "Trainable params: 50\n",
      "Non-trainable params: 0\n",
      "_________________________________________________________________\n"
     ]
    }
   ],
   "source": [
    "inputs = tf.keras.layers.Input(shape=(5,5,1))\n",
    "outputs = tf.keras.layers.Conv2D(5, 3, strides=1, activation='relu')(inputs)\n",
    "model = tf.keras.models.Model(inputs, outputs)\n",
    "model.summary()"
   ]
  },
  {
   "cell_type": "code",
   "execution_count": 93,
   "metadata": {},
   "outputs": [
    {
     "name": "stdout",
     "output_type": "stream",
     "text": [
      "* (3, 3, 1, 5)\n",
      "[[[[ 0.09317827 -0.20740828 -0.15087676 -0.05265704 -0.0662252 ]]\n",
      "\n",
      "  [[-0.24112892  0.25115785 -0.12937951  0.18143836 -0.2250344 ]]\n",
      "\n",
      "  [[-0.29226956  0.24504438 -0.07417035 -0.06055546  0.1622467 ]]]\n",
      "\n",
      "\n",
      " [[[ 0.17623404 -0.01067504  0.09258294 -0.02091208 -0.25706372]]\n",
      "\n",
      "  [[-0.13142332  0.11642179 -0.10649197  0.21527329 -0.05436102]]\n",
      "\n",
      "  [[-0.05387697  0.29749444  0.0547471  -0.19308877 -0.26249003]]]\n",
      "\n",
      "\n",
      " [[[-0.17636085  0.2540432   0.09775558 -0.02670065  0.297164  ]]\n",
      "\n",
      "  [[ 0.01861215 -0.22597107 -0.02752337  0.02866697  0.16201314]]\n",
      "\n",
      "  [[ 0.0680581  -0.1785129   0.10377845 -0.14441967  0.21425107]]]]\n",
      "* (5,)\n",
      "[0. 0. 0. 0. 0.]\n"
     ]
    }
   ],
   "source": [
    "W = model.get_weights()\n",
    "for w in W:\n",
    "    print('*',w.shape)\n",
    "    print(w )"
   ]
  },
  {
   "cell_type": "code",
   "execution_count": 169,
   "metadata": {},
   "outputs": [
    {
     "name": "stdout",
     "output_type": "stream",
     "text": [
      "Model: \"model_54\"\n",
      "_________________________________________________________________\n",
      "Layer (type)                 Output Shape              Param #   \n",
      "=================================================================\n",
      "input_61 (InputLayer)        [(None, None, 3)]         0         \n",
      "_________________________________________________________________\n",
      "lstm_44 (LSTM)               (None, None, 1)           20        \n",
      "=================================================================\n",
      "Total params: 20\n",
      "Trainable params: 20\n",
      "Non-trainable params: 0\n",
      "_________________________________________________________________\n"
     ]
    }
   ],
   "source": [
    "inputs = tf.keras.layers.Input(shape=(None,3))\n",
    "outputs = tf.keras.layers.LSTM(1, activation='relu', return_sequences=True)(inputs)\n",
    "model = tf.keras.models.Model(inputs, outputs)\n",
    "model.summary()"
   ]
  },
  {
   "cell_type": "code",
   "execution_count": 170,
   "metadata": {},
   "outputs": [
    {
     "name": "stdout",
     "output_type": "stream",
     "text": [
      "* (3, 4)\n",
      "[[-0.69515795  0.07722843  0.05704439  0.45470715]\n",
      " [ 0.39678144 -0.61505914 -0.39109534  0.51766586]\n",
      " [-0.2579937  -0.605484   -0.78593206  0.16396022]]\n",
      "* (1, 4)\n",
      "[[ 0.19835198  0.04056371 -0.17011628  0.9644021 ]]\n",
      "* (4,)\n",
      "[0. 1. 0. 0.]\n"
     ]
    }
   ],
   "source": [
    "W = model.get_weights()\n",
    "for w in W:\n",
    "    print('*',w.shape)\n",
    "    print(w )"
   ]
  },
  {
   "cell_type": "code",
   "execution_count": null,
   "metadata": {},
   "outputs": [],
   "source": []
  }
 ],
 "metadata": {
  "kernelspec": {
   "display_name": "Python 3",
   "language": "python",
   "name": "python3"
  },
  "language_info": {
   "codemirror_mode": {
    "name": "ipython",
    "version": 3
   },
   "file_extension": ".py",
   "mimetype": "text/x-python",
   "name": "python",
   "nbconvert_exporter": "python",
   "pygments_lexer": "ipython3",
   "version": "3.7.4"
  }
 },
 "nbformat": 4,
 "nbformat_minor": 4
}
