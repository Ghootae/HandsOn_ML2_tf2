{
 "cells": [
  {
   "cell_type": "code",
   "execution_count": 10,
   "metadata": {},
   "outputs": [],
   "source": [
    "import tensorflow as tf"
   ]
  },
  {
   "cell_type": "markdown",
   "metadata": {},
   "source": [
    "## [ 8-a ] \n",
    "**문제**: 100개의 뉴런을 가진 은닉층 20개로 심층 신경망을 만들어보세요(너무 많은 것 같지만 이 연습문제의 핵심입니다). He 초기화와 ELU 활성화 함수를 사용하세요."
   ]
  },
  {
   "cell_type": "markdown",
   "metadata": {},
   "source": [
    "## [ 8-b ] \n",
    "**문제**: Nadam 옵티마이저와 조기 종료를 사용하여 CIFAR10 데이터셋에 이 네트워크를 훈련하세요. keras.datasets.cifar10.load_ data()를 사용하여 데이터를 적재할 수 있습니다. 이 데이터셋은 10개의 클래스와 32×32 크기의 컬러 이미지 60,000개로 구성됩니다(50,000개는 훈련, 10,000개는 테스트). 따라서 10개의 뉴런과 소프트맥스 활성화 함수를 사용하는 출력층이 필요합니다. 모델 구조와 하이퍼파라미터를 바꿀 때마다 적절한 학습률을 찾아야 한다는 것을 기억하세요.\n"
   ]
  },
  {
   "cell_type": "markdown",
   "metadata": {},
   "source": [
    "* cifar10 데이터셋을 로드합니다. 데이터셋의 차원을 확인해봅시다."
   ]
  },
  {
   "cell_type": "code",
   "execution_count": 40,
   "metadata": {},
   "outputs": [
    {
     "data": {
      "text/plain": [
       "((45000, 32, 32, 3), (45000, 1), (5000, 32, 32, 3), (5000, 1))"
      ]
     },
     "execution_count": 40,
     "metadata": {},
     "output_type": "execute_result"
    }
   ],
   "source": [
    "(x_train_full, y_train_full), (x_test, y_test) = tf.keras.datasets.cifar10.load_data()\n",
    "\n",
    "x_train = x_train_full[5000:]\n",
    "y_train = y_train_full[5000:]\n",
    "x_valid = x_train_full[:5000]\n",
    "y_valid = y_train_full[:5000]\n",
    "x_train.shape, y_train.shape, x_valid.shape, y_valid.shape"
   ]
  },
  {
   "cell_type": "markdown",
   "metadata": {},
   "source": [
    "**#모델생성**\n",
    "* x_train을 받아서 먼저 Flatten 하는 층을 만듭니다.\n",
    "* **100**개의 뉴런을 가진 **은닉층** **20개**를 쌓아 심층 신경망을 만듭니다.\n",
    "* Initializer는 **He 초기화**를, 활성화 함수는 **Elu** 함수를 사용합니다.\n",
    "* 출력층은 **10개**의 뉴런과 **소프트맥스 활성화** 함수를 사용합니다. \n",
    "* 출력층에서는 Initializer를 사용하지 않습니다. "
   ]
  },
  {
   "cell_type": "code",
   "execution_count": 41,
   "metadata": {},
   "outputs": [],
   "source": [
    "#모델 생성\n",
    "model = tf.keras.models.Sequential()\n",
    "model.add(tf.keras.layers.Flatten(input_shape=[32, 32, 3]))\n",
    "for _ in range(20):\n",
    "    model.add(tf.keras.layers.Dense(100,\n",
    "                                 activation=\"elu\",\n",
    "                                 kernel_initializer=\"he_normal\"))  \n",
    "model.add(tf.keras.layers.Dense(10, activation=\"softmax\"))\n"
   ]
  },
  {
   "cell_type": "markdown",
   "metadata": {},
   "source": [
    "**#모델 컴파일**\n",
    "* Nadam 옵티마이저를 이용해서 모델을 컴파일 합시다."
   ]
  },
  {
   "cell_type": "code",
   "execution_count": 42,
   "metadata": {},
   "outputs": [],
   "source": [
    "# 모델 컴파일\n",
    "optimizer = tf.keras.optimizers.Nadam(lr=5e-5)\n",
    "model.compile(loss=\"sparse_categorical_crossentropy\",\n",
    "              optimizer=optimizer,\n",
    "              metrics=[\"accuracy\"])"
   ]
  },
  {
   "cell_type": "markdown",
   "metadata": {},
   "source": [
    "**#콜백 선언**\n",
    "* 조기 종료 콜백과 체크포인트 콜백을 사용합니다."
   ]
  },
  {
   "cell_type": "code",
   "execution_count": 43,
   "metadata": {},
   "outputs": [],
   "source": [
    "# 콜백 선언\n",
    "\n",
    "early_stopping_cb = tf.keras.callbacks.EarlyStopping(patience=20)\n",
    "model_checkpoint_cb = tf.keras.callbacks.ModelCheckpoint(\"b_model.h5\", save_best_only=True)\n",
    "callbacks = [early_stopping_cb, model_checkpoint_cb]\n",
    "               "
   ]
  },
  {
   "cell_type": "markdown",
   "metadata": {},
   "source": [
    "**#모델 훈련**\n",
    "* 모델을 훈련합니다."
   ]
  },
  {
   "cell_type": "code",
   "execution_count": 47,
   "metadata": {},
   "outputs": [
    {
     "name": "stdout",
     "output_type": "stream",
     "text": [
      "Train on 45000 samples, validate on 5000 samples\n",
      "Epoch 1/10\n",
      "45000/45000 [==============================] - 11s 240us/sample - loss: 1.5196 - accuracy: 0.4534 - val_loss: 1.6471 - val_accuracy: 0.4080\n",
      "Epoch 2/10\n",
      "45000/45000 [==============================] - 11s 249us/sample - loss: 1.5032 - accuracy: 0.4602 - val_loss: 1.6378 - val_accuracy: 0.4136\n",
      "Epoch 3/10\n",
      "45000/45000 [==============================] - 11s 243us/sample - loss: 1.4884 - accuracy: 0.4647 - val_loss: 1.6072 - val_accuracy: 0.4200\n",
      "Epoch 4/10\n",
      "45000/45000 [==============================] - 11s 251us/sample - loss: 1.4763 - accuracy: 0.4708 - val_loss: 1.5874 - val_accuracy: 0.4294\n",
      "Epoch 5/10\n",
      "45000/45000 [==============================] - 11s 251us/sample - loss: 1.4630 - accuracy: 0.4749 - val_loss: 1.5399 - val_accuracy: 0.4446\n",
      "Epoch 6/10\n",
      "45000/45000 [==============================] - 11s 245us/sample - loss: 1.4494 - accuracy: 0.4789 - val_loss: 1.5549 - val_accuracy: 0.4432\n",
      "Epoch 7/10\n",
      "45000/45000 [==============================] - 11s 248us/sample - loss: 1.4348 - accuracy: 0.4832 - val_loss: 1.5303 - val_accuracy: 0.4488\n",
      "Epoch 8/10\n",
      "45000/45000 [==============================] - 11s 248us/sample - loss: 1.4231 - accuracy: 0.4875 - val_loss: 1.5731 - val_accuracy: 0.4408\n",
      "Epoch 9/10\n",
      "45000/45000 [==============================] - 11s 246us/sample - loss: 1.4096 - accuracy: 0.4931 - val_loss: 1.5097 - val_accuracy: 0.4620\n",
      "Epoch 10/10\n",
      "45000/45000 [==============================] - 11s 241us/sample - loss: 1.3997 - accuracy: 0.4998 - val_loss: 1.5331 - val_accuracy: 0.4550\n"
     ]
    },
    {
     "data": {
      "text/plain": [
       "<tensorflow.python.keras.callbacks.History at 0x15d000290>"
      ]
     },
     "execution_count": 47,
     "metadata": {},
     "output_type": "execute_result"
    }
   ],
   "source": [
    "# 모델 훈련\n",
    "\n",
    "model.fit(x_train, y_train, epochs=10,\n",
    "          validation_data=(x_valid, y_valid),\n",
    "          callbacks=callbacks)\n"
   ]
  },
  {
   "cell_type": "markdown",
   "metadata": {},
   "source": [
    "**#모델 평가**\n",
    "* 모델을 불러오고 평가합니다."
   ]
  },
  {
   "cell_type": "code",
   "execution_count": 45,
   "metadata": {},
   "outputs": [
    {
     "name": "stdout",
     "output_type": "stream",
     "text": [
      "10000/10000 [==============================] - 1s 65us/sample - loss: 1.6270 - accuracy: 0.4137\n"
     ]
    },
    {
     "data": {
      "text/plain": [
       "[1.6270238901138305, 0.4137]"
      ]
     },
     "execution_count": 45,
     "metadata": {},
     "output_type": "execute_result"
    }
   ],
   "source": [
    "# 모델 평가\n",
    "\n",
    "model = tf.keras.models.load_model(\"b_model.h5\")\n",
    "model.evaluate(x_test, y_test)"
   ]
  },
  {
   "cell_type": "markdown",
   "metadata": {},
   "source": [
    "* 수렴이 언제부터 시작되나요? \n",
    "\n",
    "* 모델의 성능은 어떤가요?\n",
    "\n",
    "* 전체 훈련 속도는 몇인가요? "
   ]
  },
  {
   "cell_type": "markdown",
   "metadata": {},
   "source": [
    "## [ 8-c ] \n",
    "\n",
    "**문제**: 배치 정규화를 추가하고 학습 곡선을 비교해보세요. 이전보다 빠르게 수렴하나요? 더 좋은 모델이 만들어지나요? 훈련 속도에는 어떤 영향을 미치나요?"
   ]
  },
  {
   "cell_type": "markdown",
   "metadata": {},
   "source": [
    "**# 모델 생성**\n",
    "* 출력층을 제외하고 모든 Dense 층 다음에 (활성화 함수 전에) BN 층을 추가하세요. \n",
    "* 처음 Flatten 층 이후에도 BN 층을 추가하세요."
   ]
  },
  {
   "cell_type": "code",
   "execution_count": 29,
   "metadata": {},
   "outputs": [],
   "source": [
    "# 모델 생성\n",
    "\n",
    "\n"
   ]
  },
  {
   "cell_type": "markdown",
   "metadata": {},
   "source": [
    "**# 모델 컴파일**\n",
    "* 학습률을 5e-4로 바꾸세요."
   ]
  },
  {
   "cell_type": "code",
   "execution_count": 30,
   "metadata": {},
   "outputs": [],
   "source": [
    "# 모델 컴파일\n",
    "\n"
   ]
  },
  {
   "cell_type": "markdown",
   "metadata": {},
   "source": [
    "**# 콜백 선언**\n",
    "* 모델 파일 이름을 c_bn_model.h5로 변경하세요"
   ]
  },
  {
   "cell_type": "code",
   "execution_count": 31,
   "metadata": {},
   "outputs": [],
   "source": [
    "# 콜백 선언\n",
    "\n"
   ]
  },
  {
   "cell_type": "code",
   "execution_count": 32,
   "metadata": {},
   "outputs": [],
   "source": [
    "# 모델 훈련\n",
    "\n",
    "\n",
    "\n",
    "# 모델 평가"
   ]
  },
  {
   "cell_type": "markdown",
   "metadata": {},
   "source": [
    "* 이전보다 빠르게 수렴하나요? \n",
    "\n",
    "* BN이 더 좋은 모델을 만드나요? \n",
    "\n",
    "* BN이 훈련 속도에 영향을 미치나요? "
   ]
  },
  {
   "cell_type": "markdown",
   "metadata": {},
   "source": [
    "## [ 8-d ] \n",
    "\n",
    "\n",
    "**문제**: 배치 정규화를 SELU로 바꾸어보세요. 네트워크가 자기 정규화하기 위해 필요한 변경 사항을 적용해보세요(즉, 입력 특성 표준화, 르쿤 정규분포 초기화, 완전 연결 층만 순차적으로 쌓은 심층 신경망 등)."
   ]
  },
  {
   "cell_type": "markdown",
   "metadata": {},
   "source": [
    "**# 데이터 로드**\n",
    "* 입력특성 표준화"
   ]
  },
  {
   "cell_type": "code",
   "execution_count": 28,
   "metadata": {},
   "outputs": [],
   "source": [
    "# 데이터 로드\n",
    "x_means = x_train.mean(axis=0)\n",
    "x_stds = x_train.std(axis=0)\n",
    "x_train_scaled = (x_train - x_means) / x_stds\n",
    "x_valid_scaled = (x_valid - x_means) / x_stds\n",
    "x_test_scaled = (x_test - x_means) / x_stds"
   ]
  },
  {
   "cell_type": "markdown",
   "metadata": {},
   "source": [
    "**# 모델 생성**\n",
    "* 르쿤 정규분포 초기화\n",
    "* 완전연결층으로만 쌓은 심층신경망"
   ]
  },
  {
   "cell_type": "code",
   "execution_count": 26,
   "metadata": {},
   "outputs": [],
   "source": [
    "# 모델 생성\n",
    "\n",
    "\n",
    "\n"
   ]
  },
  {
   "cell_type": "code",
   "execution_count": 34,
   "metadata": {},
   "outputs": [],
   "source": [
    "# 모델 컴파일\n",
    "\n"
   ]
  },
  {
   "cell_type": "markdown",
   "metadata": {},
   "source": [
    "**# 콜백 선언**\n",
    "* 모델 파일 이름을 **d_selu_model.h5** 로 변경하세요"
   ]
  },
  {
   "cell_type": "code",
   "execution_count": 35,
   "metadata": {},
   "outputs": [],
   "source": [
    "# 콜백 선언\n",
    "\n"
   ]
  },
  {
   "cell_type": "code",
   "execution_count": 37,
   "metadata": {},
   "outputs": [],
   "source": [
    "# 모델 훈련\n",
    "\n",
    "\n",
    "# 모델 평가\n",
    "\n"
   ]
  },
  {
   "cell_type": "markdown",
   "metadata": {},
   "source": [
    "* 이전보다 빠르게 수렴하나요? \n",
    "\n",
    "* 더 좋은 모델을 만드나요? \n",
    "\n",
    "* 훈련 속도에 영향을 미치나요? "
   ]
  },
  {
   "cell_type": "code",
   "execution_count": null,
   "metadata": {},
   "outputs": [],
   "source": []
  }
 ],
 "metadata": {
  "kernelspec": {
   "display_name": "Python 3",
   "language": "python",
   "name": "python3"
  },
  "language_info": {
   "codemirror_mode": {
    "name": "ipython",
    "version": 3
   },
   "file_extension": ".py",
   "mimetype": "text/x-python",
   "name": "python",
   "nbconvert_exporter": "python",
   "pygments_lexer": "ipython3",
   "version": "3.7.4"
  }
 },
 "nbformat": 4,
 "nbformat_minor": 4
}
